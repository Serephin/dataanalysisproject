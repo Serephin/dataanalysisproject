{
 "cells": [
  {
   "cell_type": "markdown",
   "id": "9365c5e1",
   "metadata": {},
   "source": [
    "Code bellow reads Statistics on Death appeared due to cancer. This code is able to read excel file, get specific cell value and diagram about death cases in the period given by the user\n"
   ]
  },
  {
   "cell_type": "code",
   "execution_count": 21,
   "id": "09a8b42a",
   "metadata": {},
   "outputs": [],
   "source": [
    "import pandas as pd"
   ]
  },
  {
   "cell_type": "code",
   "execution_count": 22,
   "id": "86dba1d8",
   "metadata": {},
   "outputs": [],
   "source": [
    "from openpyxl.workbook import Workbook"
   ]
  },
  {
   "cell_type": "code",
   "execution_count": 23,
   "id": "7129af2c",
   "metadata": {},
   "outputs": [],
   "source": [
    "df_excel=pd.read_excel('CancerStati.xlsx')"
   ]
  },
  {
   "cell_type": "code",
   "execution_count": 24,
   "id": "fc917097",
   "metadata": {},
   "outputs": [
    {
     "name": "stdout",
     "output_type": "stream",
     "text": [
      "    Year    Stomach  Colon and Rectum  Pancreas  Lung and Bronchus     Breast  \\\n",
      "0   1930  35.209794         27.103343  3.817096           2.582469  30.147281   \n",
      "1   1931  33.826985         27.744003  4.122052           2.628741  30.591872   \n",
      "2   1932  33.681799         28.456058  4.499390           2.838732  30.907902   \n",
      "3   1933  32.451412         28.724279  4.273508           2.963558  30.835832   \n",
      "4   1934  31.643853         29.665005  4.361985           3.079125  31.613756   \n",
      "..   ...        ...               ...       ...                ...        ...   \n",
      "78  2008   2.500000         14.300000  9.700000          39.200000  22.600000   \n",
      "79  2009   2.400000         13.600000  9.500000          38.700000  22.200000   \n",
      "80  2010   2.500000         13.300000  9.600000          38.000000  21.900000   \n",
      "81  2011   2.300000         13.100000  9.500000          37.100000  21.500000   \n",
      "82  2012   2.400000         12.700000  9.600000          36.500000  21.300000   \n",
      "\n",
      "       Uterus  Liver  \n",
      "0   36.297402   19.3  \n",
      "1   36.530043   18.6  \n",
      "2   36.650617   18.6  \n",
      "3   35.623457   17.4  \n",
      "4   35.632654   17.0  \n",
      "..        ...    ...  \n",
      "78   6.600000    4.4  \n",
      "79   6.500000    4.5  \n",
      "80   6.700000    4.7  \n",
      "81   6.800000    4.7  \n",
      "82   6.800000    4.9  \n",
      "\n",
      "[83 rows x 8 columns]\n"
     ]
    }
   ],
   "source": [
    "df_excel.columns = df_excel.columns.str.strip('_ †')\n",
    "print(df_excel)"
   ]
  },
  {
   "cell_type": "markdown",
   "id": "b2332df9",
   "metadata": {},
   "source": [
    "Bar chart:)"
   ]
  },
  {
   "cell_type": "code",
   "execution_count": 25,
   "id": "64ec2811",
   "metadata": {
    "scrolled": true
   },
   "outputs": [
    {
     "name": "stdout",
     "output_type": "stream",
     "text": [
      "Choose type of cancer that caused death cases: \n",
      "Year\n",
      "Stomach\n",
      "Colon and Rectum\n",
      "Pancreas\n",
      "Lung and Bronchus\n",
      "Breast\n",
      "Uterus\n",
      "Liver\n",
      "Stomach\n",
      "Now write the starting and ending years of the period you want to see\n",
      "2000\n",
      "2010\n",
      "{'1930': 35.209793764336695, '1931': 33.82698474790078, '1932': 33.68179880888056, '1933': 32.45141191309688, '1934': 31.64385347586539, '1935': 31.356307551659143, '1936': 30.86548221674886, '1937': 29.226985634068715, '1938': 28.916740305073517, '1939': 26.8769196746029, '1940': 25.741439358291533, '1941': 24.5985489903403, '1942': 24.99590649649601, '1943': 23.483388820310743, '1944': 22.521940530589703, '1945': 22.186822476008526, '1946': 21.12921901506493, '1947': 20.666380963908413, '1948': 20.57846776295978, '1949': 18.46689333474949, '1950': 17.593535875485635, '1951': 16.49541698470815, '1952': 16.122829244724354, '1953': 15.55785953030679, '1954': 14.810092029590264, '1955': 13.739274037476985, '1956': 13.454939368093749, '1957': 12.726547008192487, '1958': 12.3083053890706, '1959': 11.790069671181083, '1960': 11.495967572391724, '1961': 10.71755183301874, '1962': 10.404182092275146, '1963': 10.182141315436679, '1964': 9.211199902787829, '1965': 8.977707767169456, '1966': 8.672417373322887, '1967': 8.176777528560645, '1968': 7.883615650242547, '1969': 7.5326341249392215, '1970': 7.092224582378833, '1971': 6.801247751427349, '1972': 6.6398989150705745, '1973': 6.325672969972516, '1974': 6.146040307749106, '1975': 5.9, '1976': 5.723271875126022, '1977': 5.444767755168236, '1978': 5.4574335091391015, '1979': 5.226863028506857, '1980': 5.1, '1981': 4.982093756403495, '1982': 4.856626049161109, '1983': 4.759318701497804, '1984': 4.6811597377667855, '1985': 4.4429883018257375, '1986': 4.241977033733901, '1987': 4.177162836650283, '1988': 4.174201982422182, '1989': 4.163650961602295, '1990': 4.2, '1991': 4.0, '1992': 3.9, '1993': 3.8, '1994': 3.7, '1995': 3.7, '1996': 3.5, '1997': 3.4, '1998': 3.4, '1999': 3.3, '2000': 3.2, '2001': 3.1, '2002': 3.0, '2003': 3.0, '2004': 2.9, '2005': 2.7, '2006': 2.7, '2007': 2.6, '2008': 2.5, '2009': 2.4, '2010': 2.5, '2011': 2.3, '2012': 2.4}\n",
      "81\n"
     ]
    },
    {
     "data": {
      "image/png": "[encoded data removed]",
      "text/plain": [
       "<Figure size 1440x720 with 1 Axes>"
      ]
     },
     "metadata": {
      "needs_background": "light"
     },
     "output_type": "display_data"
    }
   ],
   "source": [
    "print(\"Choose type of cancer that caused death cases: \")\n",
    "for i in df_excel.columns:\n",
    "    print(i)\n",
    "choice=input()\n",
    "print(\"Now write the starting and ending years of the period you want to see\")\n",
    "start=input()\n",
    "end=input()\n",
    "import matplotlib.pyplot as plt\n",
    "\n",
    "i=0\n",
    "n=0\n",
    "list=[]\n",
    "list2=[]\n",
    "\n",
    "while i<83  :\n",
    "\n",
    "    \n",
    "    list2.append(str(df_excel.iloc[i,0]))\n",
    "    n=n+1\n",
    "    i=i+1\n",
    "list=df_excel[choice]  \n",
    "dict={}\n",
    "i=0\n",
    "k=i\n",
    "while i<len(list) :\n",
    "       \n",
    "            dict[list2[k]]=list[i]\n",
    "            \n",
    "            \n",
    "            i=i+1\n",
    "            k=k+1\n",
    "print(dict)\n",
    "st=list2.index(start)\n",
    "ed=list2.index(end)\n",
    "fin=ed+1\n",
    "print(fin)\n",
    "revlist=list[st:fin]\n",
    "revlist2=list2[st:fin]\n",
    "\n",
    "plt.figure(figsize=(20,10))\n",
    "\n",
    "plt.bar(revlist2,revlist)\n",
    "plt.show()\n"
   ]
  },
  {
   "cell_type": "code",
   "execution_count": 10,
   "id": "0f4c2137",
   "metadata": {},
   "outputs": [
    {
     "name": "stdout",
     "output_type": "stream",
     "text": [
      "    Year    Stomach  Colon and Rectum  Pancreas  Lung and Bronchus     Breast  \\\n",
      "0   1930  35.209794         27.103343  3.817096           2.582469  30.147281   \n",
      "1   1931  33.826985         27.744003  4.122052           2.628741  30.591872   \n",
      "2   1932  33.681799         28.456058  4.499390           2.838732  30.907902   \n",
      "3   1933  32.451412         28.724279  4.273508           2.963558  30.835832   \n",
      "4   1934  31.643853         29.665005  4.361985           3.079125  31.613756   \n",
      "..   ...        ...               ...       ...                ...        ...   \n",
      "78  2008   2.500000         14.300000  9.700000          39.200000  22.600000   \n",
      "79  2009   2.400000         13.600000  9.500000          38.700000  22.200000   \n",
      "80  2010   2.500000         13.300000  9.600000          38.000000  21.900000   \n",
      "81  2011   2.300000         13.100000  9.500000          37.100000  21.500000   \n",
      "82  2012   2.400000         12.700000  9.600000          36.500000  21.300000   \n",
      "\n",
      "       Uterus  Liver       Total  \n",
      "0   36.297402   19.3  154.457384  \n",
      "1   36.530043   18.6  154.043695  \n",
      "2   36.650617   18.6  155.634499  \n",
      "3   35.623457   17.4  152.272046  \n",
      "4   35.632654   17.0  152.996378  \n",
      "..        ...    ...         ...  \n",
      "78   6.600000    4.4   99.300000  \n",
      "79   6.500000    4.5   97.400000  \n",
      "80   6.700000    4.7   96.700000  \n",
      "81   6.800000    4.7   95.000000  \n",
      "82   6.800000    4.9   94.200000  \n",
      "\n",
      "[83 rows x 9 columns]\n"
     ]
    }
   ],
   "source": [
    "print(df_excel)"
   ]
  },
  {
   "cell_type": "code",
   "execution_count": 26,
   "id": "c1f3fca2",
   "metadata": {},
   "outputs": [],
   "source": [
    "df_excel[\"Total\"]=df_excel['Stomach']+df_excel['Colon and Rectum']+df_excel['Pancreas']+df_excel['Lung and Bronchus']+df_excel['Breast']+df_excel['Uterus']+df_excel['Liver']"
   ]
  },
  {
   "cell_type": "code",
   "execution_count": 27,
   "id": "f6504248",
   "metadata": {},
   "outputs": [],
   "source": [
    "df_excel.columns = df_excel.columns.str.strip('_ ')"
   ]
  },
  {
   "cell_type": "code",
   "execution_count": 28,
   "id": "b7e414d7",
   "metadata": {},
   "outputs": [
    {
     "name": "stdout",
     "output_type": "stream",
     "text": [
      "    Year    Stomach  Colon and Rectum  Pancreas  Lung and Bronchus     Breast  \\\n",
      "0   1930  35.209794         27.103343  3.817096           2.582469  30.147281   \n",
      "1   1931  33.826985         27.744003  4.122052           2.628741  30.591872   \n",
      "2   1932  33.681799         28.456058  4.499390           2.838732  30.907902   \n",
      "3   1933  32.451412         28.724279  4.273508           2.963558  30.835832   \n",
      "4   1934  31.643853         29.665005  4.361985           3.079125  31.613756   \n",
      "..   ...        ...               ...       ...                ...        ...   \n",
      "78  2008   2.500000         14.300000  9.700000          39.200000  22.600000   \n",
      "79  2009   2.400000         13.600000  9.500000          38.700000  22.200000   \n",
      "80  2010   2.500000         13.300000  9.600000          38.000000  21.900000   \n",
      "81  2011   2.300000         13.100000  9.500000          37.100000  21.500000   \n",
      "82  2012   2.400000         12.700000  9.600000          36.500000  21.300000   \n",
      "\n",
      "       Uterus  Liver       Total  \n",
      "0   36.297402   19.3  154.457384  \n",
      "1   36.530043   18.6  154.043695  \n",
      "2   36.650617   18.6  155.634499  \n",
      "3   35.623457   17.4  152.272046  \n",
      "4   35.632654   17.0  152.996378  \n",
      "..        ...    ...         ...  \n",
      "78   6.600000    4.4   99.300000  \n",
      "79   6.500000    4.5   97.400000  \n",
      "80   6.700000    4.7   96.700000  \n",
      "81   6.800000    4.7   95.000000  \n",
      "82   6.800000    4.9   94.200000  \n",
      "\n",
      "[83 rows x 9 columns]\n"
     ]
    }
   ],
   "source": [
    "print(df_excel)"
   ]
  },
  {
   "cell_type": "markdown",
   "id": "2fe1f9f7",
   "metadata": {},
   "source": [
    "Code below opens, reads data on the Credit Limit (Limit) based on Income, Age, Gender, Ethnicity and other factors. It fits a multiple linear model to predict the Credit Limit (Limit) based on multiple criterias of a person. It creates a regression scutterplot.  "
   ]
  },
  {
   "cell_type": "code",
   "execution_count": null,
   "id": "c503b5cf",
   "metadata": {},
   "outputs": [],
   "source": [
    "from openpyxl.workbook import Workbook\n",
    "from openpyxl import load_workbook\n",
    "import matplotlib\n",
    "import numpy as np\n",
    "from sklearn import linear_model"
   ]
  },
  {
   "cell_type": "code",
   "execution_count": 3,
   "id": "389cd498",
   "metadata": {},
   "outputs": [],
   "source": [
    "import pandas as pd\n",
    "#wb1=load_workbook(r'D:\\\\SarvinaWeek14Stat.xlsx')\n",
    "wb1 = pd.read_excel (r'D:\\\\SarvinaWeek14Stat.xlsx',sheet_name=[\"credit\"]) \n",
    "df=pd.concat(wb1[frame] for frame in wb1.keys())\n",
    "df.columns = df.columns.str.strip('_  ')\n"
   ]
  },
  {
   "cell_type": "code",
   "execution_count": 31,
   "id": "c8c25d74",
   "metadata": {},
   "outputs": [
    {
     "data": {
      "text/html": [
       "<div>\n",
       "<style scoped>\n",
       "    .dataframe tbody tr th:only-of-type {\n",
       "        vertical-align: middle;\n",
       "    }\n",
       "\n",
       "    .dataframe tbody tr th {\n",
       "        vertical-align: top;\n",
       "    }\n",
       "\n",
       "    .dataframe thead th {\n",
       "        text-align: right;\n",
       "    }\n",
       "</style>\n",
       "<table border=\"1\" class=\"dataframe\">\n",
       "  <thead>\n",
       "    <tr style=\"text-align: right;\">\n",
       "      <th></th>\n",
       "      <th>Limit</th>\n",
       "      <th>Income</th>\n",
       "      <th>Age</th>\n",
       "      <th>Gender</th>\n",
       "      <th>Ethnicity</th>\n",
       "      <th>Rating</th>\n",
       "      <th>Cards</th>\n",
       "      <th>Education</th>\n",
       "      <th>Student</th>\n",
       "      <th>Married</th>\n",
       "      <th>Balance</th>\n",
       "    </tr>\n",
       "  </thead>\n",
       "  <tbody>\n",
       "    <tr>\n",
       "      <th>0</th>\n",
       "      <td>3606</td>\n",
       "      <td>14891</td>\n",
       "      <td>34</td>\n",
       "      <td>Male</td>\n",
       "      <td>Caucasian</td>\n",
       "      <td>283</td>\n",
       "      <td>2</td>\n",
       "      <td>11</td>\n",
       "      <td>No</td>\n",
       "      <td>Yes</td>\n",
       "      <td>333</td>\n",
       "    </tr>\n",
       "    <tr>\n",
       "      <th>1</th>\n",
       "      <td>6645</td>\n",
       "      <td>106025</td>\n",
       "      <td>82</td>\n",
       "      <td>Female</td>\n",
       "      <td>Asian</td>\n",
       "      <td>483</td>\n",
       "      <td>3</td>\n",
       "      <td>15</td>\n",
       "      <td>Yes</td>\n",
       "      <td>Yes</td>\n",
       "      <td>903</td>\n",
       "    </tr>\n",
       "    <tr>\n",
       "      <th>2</th>\n",
       "      <td>7075</td>\n",
       "      <td>104593</td>\n",
       "      <td>71</td>\n",
       "      <td>Male</td>\n",
       "      <td>Asian</td>\n",
       "      <td>514</td>\n",
       "      <td>4</td>\n",
       "      <td>11</td>\n",
       "      <td>No</td>\n",
       "      <td>No</td>\n",
       "      <td>580</td>\n",
       "    </tr>\n",
       "    <tr>\n",
       "      <th>3</th>\n",
       "      <td>9504</td>\n",
       "      <td>148924</td>\n",
       "      <td>36</td>\n",
       "      <td>Female</td>\n",
       "      <td>Asian</td>\n",
       "      <td>681</td>\n",
       "      <td>3</td>\n",
       "      <td>11</td>\n",
       "      <td>No</td>\n",
       "      <td>No</td>\n",
       "      <td>964</td>\n",
       "    </tr>\n",
       "    <tr>\n",
       "      <th>4</th>\n",
       "      <td>4897</td>\n",
       "      <td>55882</td>\n",
       "      <td>68</td>\n",
       "      <td>Male</td>\n",
       "      <td>Caucasian</td>\n",
       "      <td>357</td>\n",
       "      <td>2</td>\n",
       "      <td>16</td>\n",
       "      <td>No</td>\n",
       "      <td>Yes</td>\n",
       "      <td>331</td>\n",
       "    </tr>\n",
       "    <tr>\n",
       "      <th>...</th>\n",
       "      <td>...</td>\n",
       "      <td>...</td>\n",
       "      <td>...</td>\n",
       "      <td>...</td>\n",
       "      <td>...</td>\n",
       "      <td>...</td>\n",
       "      <td>...</td>\n",
       "      <td>...</td>\n",
       "      <td>...</td>\n",
       "      <td>...</td>\n",
       "      <td>...</td>\n",
       "    </tr>\n",
       "    <tr>\n",
       "      <th>393</th>\n",
       "      <td>4100</td>\n",
       "      <td>12096</td>\n",
       "      <td>32</td>\n",
       "      <td>Male</td>\n",
       "      <td>Caucasian</td>\n",
       "      <td>307</td>\n",
       "      <td>3</td>\n",
       "      <td>13</td>\n",
       "      <td>No</td>\n",
       "      <td>Yes</td>\n",
       "      <td>560</td>\n",
       "    </tr>\n",
       "    <tr>\n",
       "      <th>394</th>\n",
       "      <td>3838</td>\n",
       "      <td>13364</td>\n",
       "      <td>65</td>\n",
       "      <td>Male</td>\n",
       "      <td>African American</td>\n",
       "      <td>296</td>\n",
       "      <td>5</td>\n",
       "      <td>17</td>\n",
       "      <td>No</td>\n",
       "      <td>No</td>\n",
       "      <td>480</td>\n",
       "    </tr>\n",
       "    <tr>\n",
       "      <th>395</th>\n",
       "      <td>4171</td>\n",
       "      <td>57872</td>\n",
       "      <td>67</td>\n",
       "      <td>Female</td>\n",
       "      <td>Caucasian</td>\n",
       "      <td>321</td>\n",
       "      <td>5</td>\n",
       "      <td>12</td>\n",
       "      <td>No</td>\n",
       "      <td>Yes</td>\n",
       "      <td>0</td>\n",
       "    </tr>\n",
       "    <tr>\n",
       "      <th>396</th>\n",
       "      <td>2525</td>\n",
       "      <td>37728</td>\n",
       "      <td>44</td>\n",
       "      <td>Male</td>\n",
       "      <td>Caucasian</td>\n",
       "      <td>192</td>\n",
       "      <td>1</td>\n",
       "      <td>13</td>\n",
       "      <td>No</td>\n",
       "      <td>Yes</td>\n",
       "      <td>0</td>\n",
       "    </tr>\n",
       "    <tr>\n",
       "      <th>397</th>\n",
       "      <td>5524</td>\n",
       "      <td>18701</td>\n",
       "      <td>64</td>\n",
       "      <td>Female</td>\n",
       "      <td>Asian</td>\n",
       "      <td>415</td>\n",
       "      <td>5</td>\n",
       "      <td>7</td>\n",
       "      <td>No</td>\n",
       "      <td>No</td>\n",
       "      <td>966</td>\n",
       "    </tr>\n",
       "  </tbody>\n",
       "</table>\n",
       "<p>398 rows × 11 columns</p>\n",
       "</div>"
      ],
      "text/plain": [
       "     Limit  Income  Age  Gender         Ethnicity  Rating  Cards  Education  \\\n",
       "0     3606   14891   34    Male         Caucasian     283      2         11   \n",
       "1     6645  106025   82  Female             Asian     483      3         15   \n",
       "2     7075  104593   71    Male             Asian     514      4         11   \n",
       "3     9504  148924   36  Female             Asian     681      3         11   \n",
       "4     4897   55882   68    Male         Caucasian     357      2         16   \n",
       "..     ...     ...  ...     ...               ...     ...    ...        ...   \n",
       "393   4100   12096   32    Male         Caucasian     307      3         13   \n",
       "394   3838   13364   65    Male  African American     296      5         17   \n",
       "395   4171   57872   67  Female         Caucasian     321      5         12   \n",
       "396   2525   37728   44    Male         Caucasian     192      1         13   \n",
       "397   5524   18701   64  Female             Asian     415      5          7   \n",
       "\n",
       "    Student Married  Balance  \n",
       "0        No     Yes      333  \n",
       "1       Yes     Yes      903  \n",
       "2        No      No      580  \n",
       "3        No      No      964  \n",
       "4        No     Yes      331  \n",
       "..      ...     ...      ...  \n",
       "393      No     Yes      560  \n",
       "394      No      No      480  \n",
       "395      No     Yes        0  \n",
       "396      No     Yes        0  \n",
       "397      No      No      966  \n",
       "\n",
       "[398 rows x 11 columns]"
      ]
     },
     "execution_count": 31,
     "metadata": {},
     "output_type": "execute_result"
    }
   ],
   "source": [
    "df"
   ]
  },
  {
   "cell_type": "code",
   "execution_count": 4,
   "id": "bb73ef9a",
   "metadata": {},
   "outputs": [
    {
     "name": "stdout",
     "output_type": "stream",
     "text": [
      "33325.5\n"
     ]
    }
   ],
   "source": [
    "df\n",
    "median=df.Income.median()\n",
    "print(median)\n",
    "#newsheet=wb1.create_sheet(\"Sam\")"
   ]
  },
  {
   "cell_type": "code",
   "execution_count": 5,
   "id": "10945011",
   "metadata": {},
   "outputs": [],
   "source": [
    "df.Income=df.Income.fillna(median)"
   ]
  },
  {
   "cell_type": "code",
   "execution_count": 6,
   "id": "e1ce2662",
   "metadata": {},
   "outputs": [
    {
     "data": {
      "text/plain": [
       "LinearRegression()"
      ]
     },
     "execution_count": 6,
     "metadata": {},
     "output_type": "execute_result"
    }
   ],
   "source": [
    "reg=linear_model.LinearRegression()\n",
    "reg.fit(df[['Income', 'Age']], df.Limit)"
   ]
  },
  {
   "cell_type": "code",
   "execution_count": 7,
   "id": "420d3bb9",
   "metadata": {
    "scrolled": true
   },
   "outputs": [
    {
     "data": {
      "text/plain": [
       "array([ 0.05233229, -5.29299705])"
      ]
     },
     "execution_count": 7,
     "metadata": {},
     "output_type": "execute_result"
    }
   ],
   "source": [
    "reg.coef_"
   ]
  },
  {
   "cell_type": "code",
   "execution_count": 38,
   "id": "e9605b37",
   "metadata": {},
   "outputs": [
    {
     "data": {
      "text/plain": [
       "2663.8017232230427"
      ]
     },
     "execution_count": 38,
     "metadata": {},
     "output_type": "execute_result"
    }
   ],
   "source": [
    "reg.intercept_"
   ]
  },
  {
   "cell_type": "code",
   "execution_count": 39,
   "id": "e93a10ea",
   "metadata": {},
   "outputs": [
    {
     "data": {
      "text/plain": [
       "array([3263.53123805])"
      ]
     },
     "execution_count": 39,
     "metadata": {},
     "output_type": "execute_result"
    }
   ],
   "source": [
    "reg.predict([[15000 , 35]])"
   ]
  },
  {
   "cell_type": "code",
   "execution_count": null,
   "id": "9c4d4dac",
   "metadata": {
    "scrolled": true
   },
   "outputs": [],
   "source": [
    "print(df['Income'])\n",
    "print(\"Choose numbers of columns with factors to make a regression and predictions, Limit is the data you are making prediction on so ignore it\")\n",
    "ndf=df['Limit']\n",
    "for i in df.columns:\n",
    "    print(i)\n",
    "n=int(input())\n",
    "print(\"List that  factors\")\n",
    "i=0\n",
    "while i<n:\n",
    "    inp=input()\n",
    "    if inp==\"Gender\" or inp==\"Ethnicity\" or inp==\"Student\" or inp==\"Married\":\n",
    "        dummies=pd.get_dummies(df[inp])\n",
    "        ndf=pd.concat([ndf,dummies], axis='columns')\n",
    "    else:\n",
    "        ndf=pd.concat([ndf,df[inp]], axis='columns')\n",
    "    i+=1\n",
    "ndf"
   ]
  },
  {
   "cell_type": "code",
   "execution_count": null,
   "id": "fa5766d5",
   "metadata": {
    "scrolled": true
   },
   "outputs": [],
   "source": [
    "dummies=pd.get_dummies(df[inp])"
   ]
  },
  {
   "cell_type": "code",
   "execution_count": 152,
   "id": "62e9a830",
   "metadata": {
    "scrolled": true
   },
   "outputs": [
    {
     "data": {
      "text/html": [
       "<div>\n",
       "<style scoped>\n",
       "    .dataframe tbody tr th:only-of-type {\n",
       "        vertical-align: middle;\n",
       "    }\n",
       "\n",
       "    .dataframe tbody tr th {\n",
       "        vertical-align: top;\n",
       "    }\n",
       "\n",
       "    .dataframe thead th {\n",
       "        text-align: right;\n",
       "    }\n",
       "</style>\n",
       "<table border=\"1\" class=\"dataframe\">\n",
       "  <thead>\n",
       "    <tr style=\"text-align: right;\">\n",
       "      <th></th>\n",
       "      <th>Limit</th>\n",
       "      <th>Income</th>\n",
       "      <th>Age</th>\n",
       "      <th>Gender</th>\n",
       "      <th>Ethnicity</th>\n",
       "      <th>Rating</th>\n",
       "      <th>Cards</th>\n",
       "      <th>Education</th>\n",
       "      <th>Student</th>\n",
       "      <th>Married</th>\n",
       "      <th>...</th>\n",
       "      <th>11</th>\n",
       "      <th>12</th>\n",
       "      <th>13</th>\n",
       "      <th>14</th>\n",
       "      <th>15</th>\n",
       "      <th>16</th>\n",
       "      <th>17</th>\n",
       "      <th>18</th>\n",
       "      <th>19</th>\n",
       "      <th>20</th>\n",
       "    </tr>\n",
       "  </thead>\n",
       "  <tbody>\n",
       "    <tr>\n",
       "      <th>0</th>\n",
       "      <td>3606</td>\n",
       "      <td>14891</td>\n",
       "      <td>34</td>\n",
       "      <td>Male</td>\n",
       "      <td>Caucasian</td>\n",
       "      <td>283</td>\n",
       "      <td>2</td>\n",
       "      <td>11</td>\n",
       "      <td>No</td>\n",
       "      <td>Yes</td>\n",
       "      <td>...</td>\n",
       "      <td>1</td>\n",
       "      <td>0</td>\n",
       "      <td>0</td>\n",
       "      <td>0</td>\n",
       "      <td>0</td>\n",
       "      <td>0</td>\n",
       "      <td>0</td>\n",
       "      <td>0</td>\n",
       "      <td>0</td>\n",
       "      <td>0</td>\n",
       "    </tr>\n",
       "    <tr>\n",
       "      <th>1</th>\n",
       "      <td>6645</td>\n",
       "      <td>106025</td>\n",
       "      <td>82</td>\n",
       "      <td>Female</td>\n",
       "      <td>Asian</td>\n",
       "      <td>483</td>\n",
       "      <td>3</td>\n",
       "      <td>15</td>\n",
       "      <td>Yes</td>\n",
       "      <td>Yes</td>\n",
       "      <td>...</td>\n",
       "      <td>0</td>\n",
       "      <td>0</td>\n",
       "      <td>0</td>\n",
       "      <td>0</td>\n",
       "      <td>1</td>\n",
       "      <td>0</td>\n",
       "      <td>0</td>\n",
       "      <td>0</td>\n",
       "      <td>0</td>\n",
       "      <td>0</td>\n",
       "    </tr>\n",
       "    <tr>\n",
       "      <th>2</th>\n",
       "      <td>7075</td>\n",
       "      <td>104593</td>\n",
       "      <td>71</td>\n",
       "      <td>Male</td>\n",
       "      <td>Asian</td>\n",
       "      <td>514</td>\n",
       "      <td>4</td>\n",
       "      <td>11</td>\n",
       "      <td>No</td>\n",
       "      <td>No</td>\n",
       "      <td>...</td>\n",
       "      <td>1</td>\n",
       "      <td>0</td>\n",
       "      <td>0</td>\n",
       "      <td>0</td>\n",
       "      <td>0</td>\n",
       "      <td>0</td>\n",
       "      <td>0</td>\n",
       "      <td>0</td>\n",
       "      <td>0</td>\n",
       "      <td>0</td>\n",
       "    </tr>\n",
       "    <tr>\n",
       "      <th>3</th>\n",
       "      <td>9504</td>\n",
       "      <td>148924</td>\n",
       "      <td>36</td>\n",
       "      <td>Female</td>\n",
       "      <td>Asian</td>\n",
       "      <td>681</td>\n",
       "      <td>3</td>\n",
       "      <td>11</td>\n",
       "      <td>No</td>\n",
       "      <td>No</td>\n",
       "      <td>...</td>\n",
       "      <td>1</td>\n",
       "      <td>0</td>\n",
       "      <td>0</td>\n",
       "      <td>0</td>\n",
       "      <td>0</td>\n",
       "      <td>0</td>\n",
       "      <td>0</td>\n",
       "      <td>0</td>\n",
       "      <td>0</td>\n",
       "      <td>0</td>\n",
       "    </tr>\n",
       "    <tr>\n",
       "      <th>4</th>\n",
       "      <td>4897</td>\n",
       "      <td>55882</td>\n",
       "      <td>68</td>\n",
       "      <td>Male</td>\n",
       "      <td>Caucasian</td>\n",
       "      <td>357</td>\n",
       "      <td>2</td>\n",
       "      <td>16</td>\n",
       "      <td>No</td>\n",
       "      <td>Yes</td>\n",
       "      <td>...</td>\n",
       "      <td>0</td>\n",
       "      <td>0</td>\n",
       "      <td>0</td>\n",
       "      <td>0</td>\n",
       "      <td>0</td>\n",
       "      <td>1</td>\n",
       "      <td>0</td>\n",
       "      <td>0</td>\n",
       "      <td>0</td>\n",
       "      <td>0</td>\n",
       "    </tr>\n",
       "    <tr>\n",
       "      <th>...</th>\n",
       "      <td>...</td>\n",
       "      <td>...</td>\n",
       "      <td>...</td>\n",
       "      <td>...</td>\n",
       "      <td>...</td>\n",
       "      <td>...</td>\n",
       "      <td>...</td>\n",
       "      <td>...</td>\n",
       "      <td>...</td>\n",
       "      <td>...</td>\n",
       "      <td>...</td>\n",
       "      <td>...</td>\n",
       "      <td>...</td>\n",
       "      <td>...</td>\n",
       "      <td>...</td>\n",
       "      <td>...</td>\n",
       "      <td>...</td>\n",
       "      <td>...</td>\n",
       "      <td>...</td>\n",
       "      <td>...</td>\n",
       "      <td>...</td>\n",
       "    </tr>\n",
       "    <tr>\n",
       "      <th>393</th>\n",
       "      <td>4100</td>\n",
       "      <td>12096</td>\n",
       "      <td>32</td>\n",
       "      <td>Male</td>\n",
       "      <td>Caucasian</td>\n",
       "      <td>307</td>\n",
       "      <td>3</td>\n",
       "      <td>13</td>\n",
       "      <td>No</td>\n",
       "      <td>Yes</td>\n",
       "      <td>...</td>\n",
       "      <td>0</td>\n",
       "      <td>0</td>\n",
       "      <td>1</td>\n",
       "      <td>0</td>\n",
       "      <td>0</td>\n",
       "      <td>0</td>\n",
       "      <td>0</td>\n",
       "      <td>0</td>\n",
       "      <td>0</td>\n",
       "      <td>0</td>\n",
       "    </tr>\n",
       "    <tr>\n",
       "      <th>394</th>\n",
       "      <td>3838</td>\n",
       "      <td>13364</td>\n",
       "      <td>65</td>\n",
       "      <td>Male</td>\n",
       "      <td>African American</td>\n",
       "      <td>296</td>\n",
       "      <td>5</td>\n",
       "      <td>17</td>\n",
       "      <td>No</td>\n",
       "      <td>No</td>\n",
       "      <td>...</td>\n",
       "      <td>0</td>\n",
       "      <td>0</td>\n",
       "      <td>0</td>\n",
       "      <td>0</td>\n",
       "      <td>0</td>\n",
       "      <td>0</td>\n",
       "      <td>1</td>\n",
       "      <td>0</td>\n",
       "      <td>0</td>\n",
       "      <td>0</td>\n",
       "    </tr>\n",
       "    <tr>\n",
       "      <th>395</th>\n",
       "      <td>4171</td>\n",
       "      <td>57872</td>\n",
       "      <td>67</td>\n",
       "      <td>Female</td>\n",
       "      <td>Caucasian</td>\n",
       "      <td>321</td>\n",
       "      <td>5</td>\n",
       "      <td>12</td>\n",
       "      <td>No</td>\n",
       "      <td>Yes</td>\n",
       "      <td>...</td>\n",
       "      <td>0</td>\n",
       "      <td>1</td>\n",
       "      <td>0</td>\n",
       "      <td>0</td>\n",
       "      <td>0</td>\n",
       "      <td>0</td>\n",
       "      <td>0</td>\n",
       "      <td>0</td>\n",
       "      <td>0</td>\n",
       "      <td>0</td>\n",
       "    </tr>\n",
       "    <tr>\n",
       "      <th>396</th>\n",
       "      <td>2525</td>\n",
       "      <td>37728</td>\n",
       "      <td>44</td>\n",
       "      <td>Male</td>\n",
       "      <td>Caucasian</td>\n",
       "      <td>192</td>\n",
       "      <td>1</td>\n",
       "      <td>13</td>\n",
       "      <td>No</td>\n",
       "      <td>Yes</td>\n",
       "      <td>...</td>\n",
       "      <td>0</td>\n",
       "      <td>0</td>\n",
       "      <td>1</td>\n",
       "      <td>0</td>\n",
       "      <td>0</td>\n",
       "      <td>0</td>\n",
       "      <td>0</td>\n",
       "      <td>0</td>\n",
       "      <td>0</td>\n",
       "      <td>0</td>\n",
       "    </tr>\n",
       "    <tr>\n",
       "      <th>397</th>\n",
       "      <td>5524</td>\n",
       "      <td>18701</td>\n",
       "      <td>64</td>\n",
       "      <td>Female</td>\n",
       "      <td>Asian</td>\n",
       "      <td>415</td>\n",
       "      <td>5</td>\n",
       "      <td>7</td>\n",
       "      <td>No</td>\n",
       "      <td>No</td>\n",
       "      <td>...</td>\n",
       "      <td>0</td>\n",
       "      <td>0</td>\n",
       "      <td>0</td>\n",
       "      <td>0</td>\n",
       "      <td>0</td>\n",
       "      <td>0</td>\n",
       "      <td>0</td>\n",
       "      <td>0</td>\n",
       "      <td>0</td>\n",
       "      <td>0</td>\n",
       "    </tr>\n",
       "  </tbody>\n",
       "</table>\n",
       "<p>398 rows × 27 columns</p>\n",
       "</div>"
      ],
      "text/plain": [
       "     Limit  Income  Age  Gender         Ethnicity  Rating  Cards  Education  \\\n",
       "0     3606   14891   34    Male         Caucasian     283      2         11   \n",
       "1     6645  106025   82  Female             Asian     483      3         15   \n",
       "2     7075  104593   71    Male             Asian     514      4         11   \n",
       "3     9504  148924   36  Female             Asian     681      3         11   \n",
       "4     4897   55882   68    Male         Caucasian     357      2         16   \n",
       "..     ...     ...  ...     ...               ...     ...    ...        ...   \n",
       "393   4100   12096   32    Male         Caucasian     307      3         13   \n",
       "394   3838   13364   65    Male  African American     296      5         17   \n",
       "395   4171   57872   67  Female         Caucasian     321      5         12   \n",
       "396   2525   37728   44    Male         Caucasian     192      1         13   \n",
       "397   5524   18701   64  Female             Asian     415      5          7   \n",
       "\n",
       "    Student Married  ...  11  12  13  14  15  16  17  18  19  20  \n",
       "0        No     Yes  ...   1   0   0   0   0   0   0   0   0   0  \n",
       "1       Yes     Yes  ...   0   0   0   0   1   0   0   0   0   0  \n",
       "2        No      No  ...   1   0   0   0   0   0   0   0   0   0  \n",
       "3        No      No  ...   1   0   0   0   0   0   0   0   0   0  \n",
       "4        No     Yes  ...   0   0   0   0   0   1   0   0   0   0  \n",
       "..      ...     ...  ...  ..  ..  ..  ..  ..  ..  ..  ..  ..  ..  \n",
       "393      No     Yes  ...   0   0   1   0   0   0   0   0   0   0  \n",
       "394      No      No  ...   0   0   0   0   0   0   1   0   0   0  \n",
       "395      No     Yes  ...   0   1   0   0   0   0   0   0   0   0  \n",
       "396      No     Yes  ...   0   0   1   0   0   0   0   0   0   0  \n",
       "397      No      No  ...   0   0   0   0   0   0   0   0   0   0  \n",
       "\n",
       "[398 rows x 27 columns]"
      ]
     },
     "execution_count": 152,
     "metadata": {},
     "output_type": "execute_result"
    }
   ],
   "source": [
    "unit=pd.concat([df,dummies], axis='columns')\n",
    "unit"
   ]
  },
  {
   "cell_type": "code",
   "execution_count": 95,
   "id": "2ed16451",
   "metadata": {},
   "outputs": [
    {
     "data": {
      "text/html": [
       "<div>\n",
       "<style scoped>\n",
       "    .dataframe tbody tr th:only-of-type {\n",
       "        vertical-align: middle;\n",
       "    }\n",
       "\n",
       "    .dataframe tbody tr th {\n",
       "        vertical-align: top;\n",
       "    }\n",
       "\n",
       "    .dataframe thead th {\n",
       "        text-align: right;\n",
       "    }\n",
       "</style>\n",
       "<table border=\"1\" class=\"dataframe\">\n",
       "  <thead>\n",
       "    <tr style=\"text-align: right;\">\n",
       "      <th></th>\n",
       "      <th>Limit</th>\n",
       "      <th>Income</th>\n",
       "      <th>Age</th>\n",
       "      <th>Caucasian</th>\n",
       "      <th>African American</th>\n",
       "    </tr>\n",
       "  </thead>\n",
       "  <tbody>\n",
       "    <tr>\n",
       "      <th>0</th>\n",
       "      <td>3606</td>\n",
       "      <td>14891</td>\n",
       "      <td>34</td>\n",
       "      <td>1</td>\n",
       "      <td>0</td>\n",
       "    </tr>\n",
       "    <tr>\n",
       "      <th>1</th>\n",
       "      <td>6645</td>\n",
       "      <td>106025</td>\n",
       "      <td>82</td>\n",
       "      <td>0</td>\n",
       "      <td>0</td>\n",
       "    </tr>\n",
       "    <tr>\n",
       "      <th>2</th>\n",
       "      <td>7075</td>\n",
       "      <td>104593</td>\n",
       "      <td>71</td>\n",
       "      <td>0</td>\n",
       "      <td>0</td>\n",
       "    </tr>\n",
       "    <tr>\n",
       "      <th>3</th>\n",
       "      <td>9504</td>\n",
       "      <td>148924</td>\n",
       "      <td>36</td>\n",
       "      <td>0</td>\n",
       "      <td>0</td>\n",
       "    </tr>\n",
       "    <tr>\n",
       "      <th>4</th>\n",
       "      <td>4897</td>\n",
       "      <td>55882</td>\n",
       "      <td>68</td>\n",
       "      <td>1</td>\n",
       "      <td>0</td>\n",
       "    </tr>\n",
       "    <tr>\n",
       "      <th>...</th>\n",
       "      <td>...</td>\n",
       "      <td>...</td>\n",
       "      <td>...</td>\n",
       "      <td>...</td>\n",
       "      <td>...</td>\n",
       "    </tr>\n",
       "    <tr>\n",
       "      <th>393</th>\n",
       "      <td>4100</td>\n",
       "      <td>12096</td>\n",
       "      <td>32</td>\n",
       "      <td>1</td>\n",
       "      <td>0</td>\n",
       "    </tr>\n",
       "    <tr>\n",
       "      <th>394</th>\n",
       "      <td>3838</td>\n",
       "      <td>13364</td>\n",
       "      <td>65</td>\n",
       "      <td>0</td>\n",
       "      <td>1</td>\n",
       "    </tr>\n",
       "    <tr>\n",
       "      <th>395</th>\n",
       "      <td>4171</td>\n",
       "      <td>57872</td>\n",
       "      <td>67</td>\n",
       "      <td>1</td>\n",
       "      <td>0</td>\n",
       "    </tr>\n",
       "    <tr>\n",
       "      <th>396</th>\n",
       "      <td>2525</td>\n",
       "      <td>37728</td>\n",
       "      <td>44</td>\n",
       "      <td>1</td>\n",
       "      <td>0</td>\n",
       "    </tr>\n",
       "    <tr>\n",
       "      <th>397</th>\n",
       "      <td>5524</td>\n",
       "      <td>18701</td>\n",
       "      <td>64</td>\n",
       "      <td>0</td>\n",
       "      <td>0</td>\n",
       "    </tr>\n",
       "  </tbody>\n",
       "</table>\n",
       "<p>398 rows × 5 columns</p>\n",
       "</div>"
      ],
      "text/plain": [
       "     Limit  Income  Age  Caucasian  African American\n",
       "0     3606   14891   34          1                 0\n",
       "1     6645  106025   82          0                 0\n",
       "2     7075  104593   71          0                 0\n",
       "3     9504  148924   36          0                 0\n",
       "4     4897   55882   68          1                 0\n",
       "..     ...     ...  ...        ...               ...\n",
       "393   4100   12096   32          1                 0\n",
       "394   3838   13364   65          0                 1\n",
       "395   4171   57872   67          1                 0\n",
       "396   2525   37728   44          1                 0\n",
       "397   5524   18701   64          0                 0\n",
       "\n",
       "[398 rows x 5 columns]"
      ]
     },
     "execution_count": 95,
     "metadata": {},
     "output_type": "execute_result"
    }
   ],
   "source": []
  },
  {
   "cell_type": "code",
   "execution_count": 41,
   "id": "45c750cb",
   "metadata": {},
   "outputs": [],
   "source": [
    "X=ndf.drop(['Limit'], axis='columns')"
   ]
  },
  {
   "cell_type": "code",
   "execution_count": 42,
   "id": "20e6bf87",
   "metadata": {},
   "outputs": [],
   "source": [
    "Y=ndf['Limit']\n"
   ]
  },
  {
   "cell_type": "code",
   "execution_count": 43,
   "id": "1329d62f",
   "metadata": {},
   "outputs": [],
   "source": [
    "import matplotlib.pyplot as plt\n",
    "from sklearn.model_selection import train_test_split \n",
    "X_test, X_train, Y_test, Y_train=train_test_split(X,Y, test_size=0.3, random_state=0)\n"
   ]
  },
  {
   "cell_type": "code",
   "execution_count": 44,
   "id": "344d607d",
   "metadata": {},
   "outputs": [
    {
     "data": {
      "text/plain": [
       "LinearRegression()"
      ]
     },
     "execution_count": 44,
     "metadata": {},
     "output_type": "execute_result"
    }
   ],
   "source": [
    "final=linear_model.LinearRegression()\n",
    "\n",
    "final.fit(X_train,Y_train)\n",
    "final"
   ]
  },
  {
   "cell_type": "code",
   "execution_count": null,
   "id": "785849a2",
   "metadata": {},
   "outputs": [],
   "source": []
  },
  {
   "cell_type": "code",
   "execution_count": 45,
   "id": "b0be03c5",
   "metadata": {},
   "outputs": [],
   "source": [
    "pred=final.predict(X_test)"
   ]
  },
  {
   "cell_type": "code",
   "execution_count": 46,
   "id": "2fa2bba5",
   "metadata": {},
   "outputs": [
    {
     "data": {
      "text/plain": [
       "<matplotlib.collections.PathCollection at 0x15242688970>"
      ]
     },
     "execution_count": 46,
     "metadata": {},
     "output_type": "execute_result"
    },
    {
     "data": {
      "image/png": "[encoded data removed]",
      "text/plain": [
       "<Figure size 432x288 with 1 Axes>"
      ]
     },
     "metadata": {
      "needs_background": "light"
     },
     "output_type": "display_data"
    }
   ],
   "source": [
    "import matplotlib.pyplot as plt\n",
    "plt.scatter(Y_test,pred)"
   ]
  },
  {
   "cell_type": "code",
   "execution_count": 15,
   "id": "61ba43bf",
   "metadata": {},
   "outputs": [],
   "source": [
    "import sqlite3\n",
    "db=sqlite3.connect('new.db')\n",
    "cur=db.cursor()\n",
    " \n",
    "for row in cur.execute(\"\"\" SElECT * from testik \"\"\"):\n",
    "     print (row)\n",
    "\n"
   ]
  },
  {
   "cell_type": "code",
   "execution_count": 1,
   "id": "691aafdf",
   "metadata": {},
   "outputs": [
    {
     "name": "stdout",
     "output_type": "stream",
     "text": [
      "Hii\n"
     ]
    }
   ],
   "source": [
    "print(\"Hii\")"
   ]
  },
  {
   "cell_type": "markdown",
   "id": "73386c19",
   "metadata": {},
   "source": [
    "Winter is Coming. Let's load the dataset ASAP!\n",
    "If you haven't heard of Game of Thrones, then you must be really good at hiding. Game of Thrones is the hugely popular television series by HBO based on the (also) hugely popular book series A Song of Ice and Fire by George R.R. Martin. In this notebook, we will analyze the co-occurrence network of the characters in the Game of Thrones books. Here, two characters are considered to co-occur if their names appear in the vicinity of 15 words from one another in the books.\n",
    "\n",
    "\n",
    "\n",
    "This dataset constitutes a network and is given as a text file describing the edges between characters, with some attributes attached to each edge. Let's start by loading in the data for the first book A Game of Thrones and inspect it.\n",
    "Зима приближается. Давайте загрузим набор данных как можно скорее!\n",
    "Если вы не слышали об «Игре престолов», то вы, должно быть, очень хорошо умеете прятаться. «Игра престолов» — чрезвычайно популярный телесериал HBO, основанный на (также) чрезвычайно популярной серии книг «Песнь льда и пламени» Джорджа Р. Р. Мартина. В этой записной книжке мы проанализируем сеть совпадений персонажей в книгах «Игра престолов». Здесь считается, что два персонажа встречаются одновременно, если их имена появляются в книгах на расстоянии около 15 слов друг от друга.\n",
    "\n",
    "\n",
    "\n",
    "Этот набор данных представляет собой сеть и предоставляется в виде текстового файла, описывающего границы между символами, с некоторыми атрибутами, прикрепленными к каждому краю. Давайте начнем с загрузки данных для первой книги «Игра престолов» и проверим их.\n"
   ]
  },
  {
   "cell_type": "code",
   "execution_count": 8,
   "id": "3af932f7",
   "metadata": {},
   "outputs": [
    {
     "data": {
      "text/plain": [
       "<function matplotlib.pyplot.show(close=None, block=None)>"
      ]
     },
     "execution_count": 8,
     "metadata": {},
     "output_type": "execute_result"
    },
    {
     "data": {
      "image/png": "[encoded data removed]",
      "text/plain": [
       "<Figure size 432x288 with 1 Axes>"
      ]
     },
     "metadata": {
      "needs_background": "light"
     },
     "output_type": "display_data"
    }
   ],
   "source": [
    "import pandas as pd\n",
    "from openpyxl.workbook import Workbook\n",
    "from openpyxl import load_workbook\n",
    "import matplotlib\n",
    "import numpy as np\n",
    "got = pd.read_excel (r'GameofThrones.xlsx') \n",
    "got\n",
    "target=got.loc[got['weight']<=15]\n",
    "target=target.head(15)\n",
    "targ=got['Target'].head(15)\n",
    "\n",
    "import matplotlib.pyplot as plt\n",
    "plt.bar(targ,target['weight'])\n",
    "plt.xlabel(\"Pair Of Names\")\n",
    "plt.ylabel(\"Distance in words\")\n",
    "plt.xticks(rotation=90)\n",
    "\n",
    "plt.show\n",
    "\n",
    "\n",
    "\n",
    "\n",
    "\n"
   ]
  },
  {
   "cell_type": "code",
   "execution_count": null,
   "id": "63defc38",
   "metadata": {},
   "outputs": [],
   "source": []
  },
  {
   "cell_type": "code",
   "execution_count": 2,
   "id": "178008d5",
   "metadata": {},
   "outputs": [],
   "source": []
  },
  {
   "cell_type": "code",
   "execution_count": null,
   "id": "30d964e4",
   "metadata": {},
   "outputs": [],
   "source": []
  },
  {
   "cell_type": "code",
   "execution_count": null,
   "id": "ff5c467c",
   "metadata": {},
   "outputs": [],
   "source": []
  },
  {
   "cell_type": "code",
   "execution_count": null,
   "id": "7a99ba9d",
   "metadata": {},
   "outputs": [],
   "source": []
  }
 ],
 "metadata": {
  "kernelspec": {
   "display_name": "Python 3 (ipykernel)",
   "language": "python",
   "name": "python3"
  },
  "language_info": {
   "codemirror_mode": {
    "name": "ipython",
    "version": 3
   },
   "file_extension": ".py",
   "mimetype": "text/x-python",
   "name": "python",
   "nbconvert_exporter": "python",
   "pygments_lexer": "ipython3",
   "version": "3.9.7"
  }
 },
 "nbformat": 4,
 "nbformat_minor": 5
}
